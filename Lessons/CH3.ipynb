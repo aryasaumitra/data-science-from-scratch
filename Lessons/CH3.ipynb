{
 "cells": [
  {
   "cell_type": "markdown",
   "id": "a0b20ae9-19ea-40c2-b70d-2bfc2680b795",
   "metadata": {},
   "source": [
    "# Linear Algebra"
   ]
  },
  {
   "cell_type": "markdown",
   "id": "0b199442-eb3c-4206-9f55-eec8a1a1be7d",
   "metadata": {},
   "source": [
    "## Vectors"
   ]
  },
  {
   "cell_type": "markdown",
   "id": "e5514264-653b-4f95-9c9d-1ed79798d83c",
   "metadata": {},
   "source": [
    "#### Vectors are a collection of Points in N - Dimensional space. \n",
    "#### They can be added and multiplied to create new vectors.\n",
    "#### Two Vectors can only be added if they have same dimension."
   ]
  },
  {
   "cell_type": "code",
   "execution_count": 18,
   "id": "6aad0fc1-202b-472f-bfd4-ef2fd8194605",
   "metadata": {},
   "outputs": [],
   "source": [
    "from typing import List\n",
    "import math"
   ]
  },
  {
   "cell_type": "code",
   "execution_count": 3,
   "id": "923e9797-ac88-44db-a468-ea98c83a16d4",
   "metadata": {},
   "outputs": [],
   "source": [
    "Vector = List[float]"
   ]
  },
  {
   "cell_type": "markdown",
   "id": "73c00040-0861-45a5-8a39-1061ab77e5b7",
   "metadata": {
    "jp-MarkdownHeadingCollapsed": true
   },
   "source": [
    "### Vector Addition"
   ]
  },
  {
   "cell_type": "code",
   "execution_count": 7,
   "id": "e6cd2ecb-c9d2-47e2-9551-a9da5678fe03",
   "metadata": {},
   "outputs": [],
   "source": [
    "def add(a:Vector,b:Vector)-> Vector:\n",
    "    assert len(a) == len(b), \"Vectors must be of same length\"\n",
    "    \n",
    "    return [a_i+b_i for a_i,b_i in zip(a,b)]\n",
    "\n",
    "assert add([4,5,6],[1,2,3]) == [5,7,9]"
   ]
  },
  {
   "cell_type": "code",
   "execution_count": 11,
   "id": "01915d2b-8acc-4088-b026-27bcb6bd7ee3",
   "metadata": {},
   "outputs": [],
   "source": [
    "def vector_sum(vectors: List[Vector]) -> Vector:\n",
    "    \"\"\" Sum all corresponding vectors \"\"\"\n",
    "    #Check if vectors in not empty\n",
    "    assert vectors, \"No Vectors found\"\n",
    "\n",
    "    #Check all vectors are of same size\n",
    "    n = len(vectors[0])\n",
    "    assert all(len(v) == n for v in vectors), \"Different Sizes\"\n",
    "\n",
    "    #Ith element is the sum of every i element in the vector\n",
    "    return [sum(vector[i] for vector in vectors) for i in range(n)]\n",
    "\n",
    "assert vector_sum([[1,2],[3,4],[5,6],[7,8]]) == [16,20]"
   ]
  },
  {
   "cell_type": "markdown",
   "id": "eb76e30c-2d76-4282-a2b6-e2351a252ac3",
   "metadata": {
    "jp-MarkdownHeadingCollapsed": true
   },
   "source": [
    "### Vector Subtraction"
   ]
  },
  {
   "cell_type": "code",
   "execution_count": 9,
   "id": "1fcddd7d-2836-4038-916d-61fc8274d1a6",
   "metadata": {},
   "outputs": [],
   "source": [
    "def subtract(a:Vector,b:Vector)-> Vector:\n",
    "    assert len(a) == len(b), \"Vectors must be of same length\"\n",
    "    \n",
    "    return [a_i-b_i for a_i,b_i in zip(a,b)]\n",
    "\n",
    "assert add([5,7,9],[4,5,6]) == [1,2,3]"
   ]
  },
  {
   "cell_type": "markdown",
   "id": "bf5f1eeb-109c-422a-98d5-f77e1c33f4a1",
   "metadata": {},
   "source": [
    "## Vector Multiplication"
   ]
  },
  {
   "cell_type": "code",
   "execution_count": 13,
   "id": "f24f77cf-e27b-4f87-a4f3-8f9d9d6ae150",
   "metadata": {},
   "outputs": [],
   "source": [
    "def scalar_multiplication(c:float, v:Vector)->Vector:\n",
    "\n",
    "    return [c*v_i for v_i in v]\n",
    "\n",
    "assert scalar_multiplication(2,[1,2,3]) == [2,4,6]"
   ]
  },
  {
   "cell_type": "code",
   "execution_count": 14,
   "id": "97a2b785-e03b-481f-b60f-343ddae492a0",
   "metadata": {},
   "outputs": [],
   "source": [
    "def vector_mean(vectors: List[Vector])-> Vector:\n",
    "\n",
    "    n = len(vectors)\n",
    "    return scalar_multiplication(1/n,vector_sum(vectors))\n",
    "\n",
    "assert vector_mean([[1,2],[3,4],[5,6]]) == [3,4]"
   ]
  },
  {
   "cell_type": "code",
   "execution_count": 16,
   "id": "963e5659-21f5-4f4d-8012-d074de03e7a7",
   "metadata": {},
   "outputs": [],
   "source": [
    "#Dot Product Multiplication - a.b = |a||b|cos0, \n",
    "#The dot product is a scalar value that measures the combined magnitude of two vectors and how much one vector \"projects\" onto another. \n",
    "#Mathematically, it sums the product of their corresponding components.\n",
    "\n",
    "def dot(v:Vector, w:Vector)->Vector:\n",
    "    assert len(v) == len(w), \"Unequal Length\"\n",
    "\n",
    "    return sum(v_i * w_i for v_i,w_i in zip(v,w))\n",
    "\n",
    "assert dot([1,2,3],[4,5,6]) == 32\n",
    "\n"
   ]
  },
  {
   "cell_type": "code",
   "execution_count": 17,
   "id": "0baf78c0-cfa6-4e7a-9cde-695268255eba",
   "metadata": {},
   "outputs": [],
   "source": [
    "def sum_of_squares(v:Vector) -> float:\n",
    "    return dot(v,v)\n",
    "\n",
    "assert sum_of_squares([1,2,3]) == 14"
   ]
  },
  {
   "cell_type": "code",
   "execution_count": 23,
   "id": "7c6af13d-1724-4165-9d15-05f1a19ee3d2",
   "metadata": {},
   "outputs": [],
   "source": [
    "#Vector Magnitude: Length of Vector\n",
    "\n",
    "def magnitude(v:Vector)->float:\n",
    "    return math.sqrt(sum_of_squares(v))\n",
    "\n",
    "assert magnitude([3,4]) == 5\n",
    "assert magnitude([6,8]) == 10"
   ]
  },
  {
   "cell_type": "code",
   "execution_count": 22,
   "id": "65b1b244-c110-4778-8838-138825ab2686",
   "metadata": {},
   "outputs": [],
   "source": [
    "#Vector Distances\n",
    "\n",
    "def distance(v:Vector,w:Vector):\n",
    "    return magnitude(subtract(v,w))\n",
    "\n",
    "assert distance([3,4],[6,8]) == 5"
   ]
  },
  {
   "cell_type": "markdown",
   "id": "f591758d-0513-49f2-8bbc-8a581ed073bb",
   "metadata": {},
   "source": [
    "## Matrices"
   ]
  },
  {
   "cell_type": "code",
   "execution_count": null,
   "id": "392c0d6a-f41c-4006-a097-20e79a154fe4",
   "metadata": {},
   "outputs": [],
   "source": []
  }
 ],
 "metadata": {
  "kernelspec": {
   "display_name": "Python 3 (ipykernel)",
   "language": "python",
   "name": "python3"
  },
  "language_info": {
   "codemirror_mode": {
    "name": "ipython",
    "version": 3
   },
   "file_extension": ".py",
   "mimetype": "text/x-python",
   "name": "python",
   "nbconvert_exporter": "python",
   "pygments_lexer": "ipython3",
   "version": "3.12.3"
  }
 },
 "nbformat": 4,
 "nbformat_minor": 5
}
