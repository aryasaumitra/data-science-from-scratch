{
 "cells": [
  {
   "cell_type": "markdown",
   "id": "2bbeb53c-0fb3-400b-8fa9-399f47dc90b7",
   "metadata": {},
   "source": [
    "# Python Fundamentals"
   ]
  },
  {
   "cell_type": "markdown",
   "id": "0a9bcff8-3cef-4f0d-aa4b-dfc7b6f51c63",
   "metadata": {
    "jp-MarkdownHeadingCollapsed": true
   },
   "source": [
    "## Looping"
   ]
  },
  {
   "cell_type": "code",
   "execution_count": 23,
   "id": "314cd293-ce35-4572-8741-5ed1913a15f2",
   "metadata": {},
   "outputs": [
    {
     "name": "stdout",
     "output_type": "stream",
     "text": [
      "2 3 4 5 6 3 4 5 6 7 4 5 6 7 8 5 6 7 8 9 6 7 8 9 10 Done Looping\n"
     ]
    }
   ],
   "source": [
    "for i in [1,2,3,4,5]:\n",
    "    # print (i)\n",
    "    for j in [1,2,3,4,5]:\n",
    "        # print(j)\n",
    "        print(i+j,end=\" \")\n",
    "    # print(i)\n",
    "print(\"Done Looping\")"
   ]
  },
  {
   "cell_type": "markdown",
   "id": "2693e91b-35cb-415d-a357-c03c66251cb6",
   "metadata": {
    "jp-MarkdownHeadingCollapsed": true
   },
   "source": [
    "## Modules"
   ]
  },
  {
   "cell_type": "code",
   "execution_count": 4,
   "id": "fb93023c-fe56-4072-a044-3d53baacd8f2",
   "metadata": {},
   "outputs": [],
   "source": [
    "import re"
   ]
  },
  {
   "cell_type": "code",
   "execution_count": 6,
   "id": "42a6afa8-f8f3-43d0-a9c1-b2c1e690d833",
   "metadata": {},
   "outputs": [],
   "source": [
    "my_regex = re.compile(\"[0-9]+\",re.I)"
   ]
  },
  {
   "cell_type": "code",
   "execution_count": 7,
   "id": "8c078584-7d44-4c68-a670-96608efbae70",
   "metadata": {},
   "outputs": [],
   "source": [
    "from collections import Counter,defaultdict"
   ]
  },
  {
   "cell_type": "markdown",
   "id": "145c0f8a-1062-4ea5-8751-23cda5119ac7",
   "metadata": {
    "jp-MarkdownHeadingCollapsed": true
   },
   "source": [
    "## Functions"
   ]
  },
  {
   "cell_type": "code",
   "execution_count": 9,
   "id": "422fa001-d177-438e-8de6-a0d4dc241c3e",
   "metadata": {},
   "outputs": [
    {
     "data": {
      "text/plain": [
       "40"
      ]
     },
     "execution_count": 9,
     "metadata": {},
     "output_type": "execute_result"
    }
   ],
   "source": [
    "def double(x):\n",
    "    return x*2\n",
    "\n",
    "double(20)"
   ]
  },
  {
   "cell_type": "code",
   "execution_count": 13,
   "id": "47641771-7f1d-43ec-9128-eafe51eb59f6",
   "metadata": {},
   "outputs": [
    {
     "name": "stdout",
     "output_type": "stream",
     "text": [
      "No value\n"
     ]
    }
   ],
   "source": [
    "def defaultMessage(value=\"No value\"):\n",
    "    print(value)\n",
    "\n",
    "defaultMessage()"
   ]
  },
  {
   "cell_type": "markdown",
   "id": "7f78b301-153c-4a42-b07a-7cf6c60a9756",
   "metadata": {
    "jp-MarkdownHeadingCollapsed": true
   },
   "source": [
    "## Strings"
   ]
  },
  {
   "cell_type": "code",
   "execution_count": 15,
   "id": "06bd858a-81a9-45fe-adf2-1ba981d5f7f6",
   "metadata": {},
   "outputs": [],
   "source": [
    "singleQuotestring = 'data science'\n",
    "doubleQuoteString = \"data Science\""
   ]
  },
  {
   "cell_type": "code",
   "execution_count": 18,
   "id": "3296396c-367e-4f50-8771-0ef469ca32b7",
   "metadata": {},
   "outputs": [
    {
     "data": {
      "text/plain": [
       "1"
      ]
     },
     "execution_count": 18,
     "metadata": {},
     "output_type": "execute_result"
    }
   ],
   "source": [
    "tab_string = \"\\t\" #Special Charecter represented using Backlash\n",
    "len(tab_string)"
   ]
  },
  {
   "cell_type": "code",
   "execution_count": 19,
   "id": "f140e119-7f73-46a5-8fe2-12da275ba01f",
   "metadata": {},
   "outputs": [
    {
     "data": {
      "text/plain": [
       "2"
      ]
     },
     "execution_count": 19,
     "metadata": {},
     "output_type": "execute_result"
    }
   ],
   "source": [
    "non_tab_string = r\"\\t\" #Raw string\n",
    "len(non_tab_string)"
   ]
  },
  {
   "cell_type": "code",
   "execution_count": 20,
   "id": "dc1c0366-9659-4905-ad2e-ca2bf7181f73",
   "metadata": {},
   "outputs": [],
   "source": [
    "multiLine_string = \"\"\"\n",
    "    This is multiline\n",
    "\"\"\"  # Used for Documentations within Code"
   ]
  },
  {
   "cell_type": "code",
   "execution_count": 21,
   "id": "002de61c-ad89-4a0a-bd18-eb9b9d5cf217",
   "metadata": {},
   "outputs": [
    {
     "name": "stdout",
     "output_type": "stream",
     "text": [
      "Arya Saumitra\n",
      "Arya Saumitra\n",
      "Arya Saumitra\n"
     ]
    }
   ],
   "source": [
    "firstName = \"Arya\"\n",
    "lastName = \"Saumitra\"\n",
    "\n",
    "fullName1 = firstName+\" \"+lastName\n",
    "print(fullName1)\n",
    "\n",
    "fullName2 = \"{0} {1}\".format(firstName,lastName)\n",
    "print(fullName2)\n",
    "\n",
    "fullName3 = f\"{firstName} {lastName}\"  # f-string type\n",
    "print(fullName3)"
   ]
  },
  {
   "cell_type": "markdown",
   "id": "6aa7fa5f-f2f9-4e2d-bde7-6e968497fba8",
   "metadata": {
    "jp-MarkdownHeadingCollapsed": true
   },
   "source": [
    "## Exceptions"
   ]
  },
  {
   "cell_type": "code",
   "execution_count": 22,
   "id": "c36dc207-7990-4f1b-8550-4fd538033b78",
   "metadata": {},
   "outputs": [
    {
     "name": "stdout",
     "output_type": "stream",
     "text": [
      "Cannot Divide by Zero\n"
     ]
    }
   ],
   "source": [
    "try:\n",
    "    print(0/0)\n",
    "except ZeroDivisionError:\n",
    "    print(\"Cannot Divide by Zero\")"
   ]
  },
  {
   "cell_type": "markdown",
   "id": "47e027c2-82c2-4576-92f3-6b84a3975ca6",
   "metadata": {
    "jp-MarkdownHeadingCollapsed": true
   },
   "source": [
    "## Lists"
   ]
  },
  {
   "cell_type": "code",
   "execution_count": 26,
   "id": "4dbc9f58-6681-41c8-8471-4822ae97a391",
   "metadata": {},
   "outputs": [],
   "source": [
    "x = [0,1,2,3,4,5,6,7,8,9]\n",
    "\n",
    "first_three = x[:3]\n",
    "three_to_end = x[3:]\n",
    "one_to_four = x[1:5]  # x[i:j] i-(inclusive), j-(exclusive)\n",
    "last_three = x[-3:]\n",
    "without_first_and_last = x[1:-1]\n",
    "copy_ofx = x[:]\n",
    "every_thrid = x[::3] # x[i:j:k] k is iterator\n",
    "five_to_three = x[5:2:-1]"
   ]
  },
  {
   "cell_type": "code",
   "execution_count": 27,
   "id": "2ac6e38c-03cc-4414-808c-33970ef48059",
   "metadata": {},
   "outputs": [
    {
     "data": {
      "text/plain": [
       "True"
      ]
     },
     "execution_count": 27,
     "metadata": {},
     "output_type": "execute_result"
    }
   ],
   "source": [
    "1 in [1,2,3]"
   ]
  },
  {
   "cell_type": "code",
   "execution_count": 35,
   "id": "b21480b3-d5c4-4480-91b4-a69c26383614",
   "metadata": {},
   "outputs": [
    {
     "name": "stdout",
     "output_type": "stream",
     "text": [
      "ID of A:135947881119984\n",
      "ID of Arr:135947799364480\n",
      "Currently at 1 with ID:135947881119984\n",
      "found a match\n",
      "Currently at 2 with ID:135947881120016\n",
      "Currently at 3 with ID:135947881120048\n"
     ]
    }
   ],
   "source": [
    "a = 1\n",
    "arr = [1,2,3]\n",
    "\n",
    "print(f\"ID of A:{id(a)}\")\n",
    "print(f\"ID of Arr:{id(arr)}\")\n",
    "for eachElement in arr:\n",
    "    print(f\"Currently at {eachElement} with ID:{id(eachElement)}\")\n",
    "    if a == eachElement:\n",
    "        print(\"found a match\")\n",
    "\n",
    "# The in operator checks for equality (==), not identity (is)\n",
    "# For custom objects, you can define how equality is determined using the __eq__ method."
   ]
  },
  {
   "cell_type": "code",
   "execution_count": 36,
   "id": "840656c0-d390-4b54-a30a-9abea3a19867",
   "metadata": {},
   "outputs": [],
   "source": [
    "arr.append(4)"
   ]
  },
  {
   "cell_type": "code",
   "execution_count": 37,
   "id": "12c7fae1-61ec-477a-8ad2-6569c0998e94",
   "metadata": {},
   "outputs": [
    {
     "name": "stdout",
     "output_type": "stream",
     "text": [
      "[1, 2, 3, 4]\n"
     ]
    }
   ],
   "source": [
    "print(arr)"
   ]
  },
  {
   "cell_type": "code",
   "execution_count": 38,
   "id": "a6097505-23d9-4d09-9037-5da42eb40f58",
   "metadata": {},
   "outputs": [
    {
     "data": {
      "text/plain": [
       "4"
      ]
     },
     "execution_count": 38,
     "metadata": {},
     "output_type": "execute_result"
    }
   ],
   "source": [
    "arr.pop()"
   ]
  },
  {
   "cell_type": "code",
   "execution_count": 39,
   "id": "5ede79c8-99ab-4cb6-a2f4-fed260fb26f4",
   "metadata": {},
   "outputs": [],
   "source": [
    "x,y,z = [1,2,3]"
   ]
  },
  {
   "cell_type": "code",
   "execution_count": 40,
   "id": "0a003c6d-00ba-4af9-a071-29047d4b5e91",
   "metadata": {},
   "outputs": [],
   "source": [
    "_,y= [1,2]"
   ]
  },
  {
   "cell_type": "code",
   "execution_count": 41,
   "id": "8ecd1b74-5b81-4ba6-bcc3-a47b9850bd6a",
   "metadata": {},
   "outputs": [
    {
     "name": "stdout",
     "output_type": "stream",
     "text": [
      "2\n"
     ]
    }
   ],
   "source": [
    "print(y)"
   ]
  },
  {
   "cell_type": "markdown",
   "id": "d062f578-bb49-44ae-aa14-8a743ffea5a8",
   "metadata": {
    "jp-MarkdownHeadingCollapsed": true
   },
   "source": [
    "## Tuples - Immutable List"
   ]
  },
  {
   "cell_type": "code",
   "execution_count": 42,
   "id": "229d114c-1758-4ed4-9ebb-36948784d78c",
   "metadata": {},
   "outputs": [],
   "source": [
    "tuples = (1,2)"
   ]
  },
  {
   "cell_type": "code",
   "execution_count": 43,
   "id": "8a9e8d04-ab0a-4e7e-bafa-ed4dd8bfa8f9",
   "metadata": {},
   "outputs": [],
   "source": [
    "def func():\n",
    "    return 2,3 #Returns Tuple (2,3)\n",
    "\n",
    "x,y = func() # Tuple Unpacking"
   ]
  },
  {
   "cell_type": "code",
   "execution_count": 44,
   "id": "77a70c8f-7f3e-4196-930e-ded975785c52",
   "metadata": {},
   "outputs": [
    {
     "name": "stdout",
     "output_type": "stream",
     "text": [
      "2\n",
      "3\n"
     ]
    }
   ],
   "source": [
    "print(x)\n",
    "print(y)"
   ]
  },
  {
   "cell_type": "markdown",
   "id": "6a9dc440-d160-4682-8402-4bdd41b59e63",
   "metadata": {
    "jp-MarkdownHeadingCollapsed": true
   },
   "source": [
    "## Dictionaries & Default Dict"
   ]
  },
  {
   "cell_type": "markdown",
   "id": "74cb43b4-2e8a-4f5a-939c-d7bc649bb5c8",
   "metadata": {
    "jp-MarkdownHeadingCollapsed": true
   },
   "source": [
    "### Dictionary"
   ]
  },
  {
   "cell_type": "code",
   "execution_count": 45,
   "id": "4552b76f-ff2f-46ea-a5a3-400e8eec29d0",
   "metadata": {},
   "outputs": [],
   "source": [
    "empty_dict = {}\n",
    "grades= {\"tim\":8,\"Joel\":80}"
   ]
  },
  {
   "cell_type": "code",
   "execution_count": 46,
   "id": "cf6dc041-597c-4149-b952-74355ba42783",
   "metadata": {},
   "outputs": [
    {
     "data": {
      "text/plain": [
       "80"
      ]
     },
     "execution_count": 46,
     "metadata": {},
     "output_type": "execute_result"
    }
   ],
   "source": [
    "grades[\"Joel\"]"
   ]
  },
  {
   "cell_type": "code",
   "execution_count": 47,
   "id": "7e4f90b5-3498-4604-acdd-366bddd1c3a9",
   "metadata": {},
   "outputs": [
    {
     "data": {
      "text/plain": [
       "False"
      ]
     },
     "execution_count": 47,
     "metadata": {},
     "output_type": "execute_result"
    }
   ],
   "source": [
    "\"Kate\" in grades"
   ]
  },
  {
   "cell_type": "code",
   "execution_count": 50,
   "id": "c24bfa3e-49e1-4b24-959a-adf76a33d279",
   "metadata": {},
   "outputs": [
    {
     "data": {
      "text/plain": [
       "80"
      ]
     },
     "execution_count": 50,
     "metadata": {},
     "output_type": "execute_result"
    }
   ],
   "source": [
    "grades.get(\"Joel\",90)"
   ]
  },
  {
   "cell_type": "code",
   "execution_count": 51,
   "id": "d2defb19-1f0d-43a4-8f4b-15d12af2f419",
   "metadata": {},
   "outputs": [
    {
     "data": {
      "text/plain": [
       "90"
      ]
     },
     "execution_count": 51,
     "metadata": {},
     "output_type": "execute_result"
    }
   ],
   "source": [
    "grades.get(\"Kate\",90)"
   ]
  },
  {
   "cell_type": "code",
   "execution_count": 52,
   "id": "a5d93eed-d49b-405d-bb9a-aa2838f664f1",
   "metadata": {},
   "outputs": [
    {
     "data": {
      "text/plain": [
       "dict_keys(['tim', 'Joel'])"
      ]
     },
     "execution_count": 52,
     "metadata": {},
     "output_type": "execute_result"
    }
   ],
   "source": [
    "grades.keys()"
   ]
  },
  {
   "cell_type": "code",
   "execution_count": 53,
   "id": "0f435ce6-3e2b-4c53-9468-22f95e49855f",
   "metadata": {},
   "outputs": [
    {
     "data": {
      "text/plain": [
       "dict_values([8, 80])"
      ]
     },
     "execution_count": 53,
     "metadata": {},
     "output_type": "execute_result"
    }
   ],
   "source": [
    "grades.values()"
   ]
  },
  {
   "cell_type": "code",
   "execution_count": 54,
   "id": "d064ccf4-d931-4794-8f94-d8f53fffa555",
   "metadata": {},
   "outputs": [
    {
     "data": {
      "text/plain": [
       "dict_items([('tim', 8), ('Joel', 80)])"
      ]
     },
     "execution_count": 54,
     "metadata": {},
     "output_type": "execute_result"
    }
   ],
   "source": [
    "grades.items()"
   ]
  },
  {
   "cell_type": "markdown",
   "id": "fc45d030-a144-4827-aff2-da72b55de23d",
   "metadata": {
    "jp-MarkdownHeadingCollapsed": true
   },
   "source": [
    "### Default Dict"
   ]
  },
  {
   "cell_type": "code",
   "execution_count": 56,
   "id": "148c55ac-3cb6-48a6-8a6f-1c00b2e24d80",
   "metadata": {},
   "outputs": [
    {
     "name": "stdout",
     "output_type": "stream",
     "text": [
      "{'x': 1, 'y': 1, 'z': 1, ' ': 7, 's': 12, 'd': 11, 'k': 4, 'a': 2, 'j': 4, 'l': 1, 'w': 2, 'n': 3, 'o': 1, 'm': 2}\n"
     ]
    }
   ],
   "source": [
    "# Default way to create a hashmap \n",
    "document = \"xyz sdks sdakjsl asdkjw sdnjsd sdowjmd sdmsd ksdnsnd\"\n",
    "\n",
    "word_count = {}\n",
    "for word in document:\n",
    "    if word in word_count:\n",
    "        word_count[word] += 1\n",
    "    else:\n",
    "        word_count[word] = 1\n",
    "\n",
    "print(word_count)"
   ]
  },
  {
   "cell_type": "code",
   "execution_count": 57,
   "id": "b84882bc-bb53-4b0f-9b80-000b2520d476",
   "metadata": {},
   "outputs": [
    {
     "name": "stdout",
     "output_type": "stream",
     "text": [
      "{'x': 1, 'y': 1, 'z': 1, ' ': 7, 's': 12, 'd': 11, 'k': 4, 'a': 2, 'j': 4, 'l': 1, 'w': 2, 'n': 3, 'o': 1, 'm': 2}\n"
     ]
    }
   ],
   "source": [
    "# Slightly Smarter Way to create Hashmap\n",
    "\n",
    "word_count = {}\n",
    "for word in document:\n",
    "    previousCount = word_count.get(word,0)\n",
    "    word_count[word] = previousCount + 1\n",
    "\n",
    "print(word_count)"
   ]
  },
  {
   "cell_type": "code",
   "execution_count": 59,
   "id": "16d9803c-812e-4e48-b6a8-ff0e72d8ccb2",
   "metadata": {},
   "outputs": [
    {
     "name": "stdout",
     "output_type": "stream",
     "text": [
      "defaultdict(<class 'int'>, {'x': 1, 'y': 1, 'z': 1, ' ': 7, 's': 12, 'd': 11, 'k': 4, 'a': 2, 'j': 4, 'l': 1, 'w': 2, 'n': 3, 'o': 1, 'm': 2})\n"
     ]
    }
   ],
   "source": [
    "# Python Boss way to create Hashmap\n",
    "from collections import defaultdict\n",
    "\n",
    "word_count = defaultdict(int)\n",
    "for word in document:\n",
    "    word_count[word] += 1\n",
    "\n",
    "print(word_count)"
   ]
  },
  {
   "cell_type": "markdown",
   "id": "55ee8f3a-321d-45c3-920b-f47da05b3b45",
   "metadata": {
    "jp-MarkdownHeadingCollapsed": true
   },
   "source": [
    "## Counters"
   ]
  },
  {
   "cell_type": "code",
   "execution_count": 61,
   "id": "da19c21c-19d8-482e-bb74-a40381c7204d",
   "metadata": {},
   "outputs": [
    {
     "name": "stdout",
     "output_type": "stream",
     "text": [
      "Counter({'s': 12, 'd': 11, ' ': 7, 'k': 4, 'j': 4, 'n': 3, 'a': 2, 'w': 2, 'm': 2, 'x': 1, 'y': 1, 'z': 1, 'l': 1, 'o': 1})\n"
     ]
    }
   ],
   "source": [
    "# Creates a defaultdict[int] for every key - Python God way to create Hashmap\n",
    "from collections import Counter\n",
    "\n",
    "word_count = Counter(document)\n",
    "print(word_count)"
   ]
  },
  {
   "cell_type": "markdown",
   "id": "939d4bcd-1f71-423c-b6ad-e61e603f6562",
   "metadata": {
    "jp-MarkdownHeadingCollapsed": true
   },
   "source": [
    "## Sets"
   ]
  },
  {
   "cell_type": "code",
   "execution_count": 62,
   "id": "fd480527-66e3-4e37-a348-51765d943311",
   "metadata": {},
   "outputs": [],
   "source": [
    "# Collection of Distinct Element - Set Operations, Venn Diagrams, In Operations are super quick"
   ]
  },
  {
   "cell_type": "code",
   "execution_count": 63,
   "id": "4c2b54b6-f776-4a55-9b5a-a56cb27139ab",
   "metadata": {},
   "outputs": [],
   "source": [
    "primes = {1,2,3}"
   ]
  },
  {
   "cell_type": "code",
   "execution_count": 64,
   "id": "48224cf1-76f5-4118-87c4-2e73f89b8ec4",
   "metadata": {},
   "outputs": [],
   "source": [
    "primes.add(4)"
   ]
  },
  {
   "cell_type": "code",
   "execution_count": 65,
   "id": "5bb3292c-2535-4f94-9f20-045f1684c574",
   "metadata": {},
   "outputs": [
    {
     "name": "stdout",
     "output_type": "stream",
     "text": [
      "{1, 2, 3, 4}\n"
     ]
    }
   ],
   "source": [
    "print(primes)"
   ]
  },
  {
   "cell_type": "markdown",
   "id": "45997f21-10c9-458d-8109-6813b1952069",
   "metadata": {},
   "source": [
    "## Truthiness"
   ]
  },
  {
   "cell_type": "code",
   "execution_count": null,
   "id": "883b6f99-fa89-43f5-8f5c-7d747956224f",
   "metadata": {},
   "outputs": [],
   "source": []
  }
 ],
 "metadata": {
  "kernelspec": {
   "display_name": "Python 3 (ipykernel)",
   "language": "python",
   "name": "python3"
  },
  "language_info": {
   "codemirror_mode": {
    "name": "ipython",
    "version": 3
   },
   "file_extension": ".py",
   "mimetype": "text/x-python",
   "name": "python",
   "nbconvert_exporter": "python",
   "pygments_lexer": "ipython3",
   "version": "3.10.12"
  }
 },
 "nbformat": 4,
 "nbformat_minor": 5
}
