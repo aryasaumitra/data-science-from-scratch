{
 "cells": [
  {
   "cell_type": "markdown",
   "id": "2bbeb53c-0fb3-400b-8fa9-399f47dc90b7",
   "metadata": {},
   "source": [
    "# Python Fundamentals"
   ]
  },
  {
   "cell_type": "markdown",
   "id": "0a9bcff8-3cef-4f0d-aa4b-dfc7b6f51c63",
   "metadata": {
    "jp-MarkdownHeadingCollapsed": true
   },
   "source": [
    "## Looping"
   ]
  },
  {
   "cell_type": "code",
   "execution_count": 23,
   "id": "314cd293-ce35-4572-8741-5ed1913a15f2",
   "metadata": {},
   "outputs": [
    {
     "name": "stdout",
     "output_type": "stream",
     "text": [
      "2 3 4 5 6 3 4 5 6 7 4 5 6 7 8 5 6 7 8 9 6 7 8 9 10 Done Looping\n"
     ]
    }
   ],
   "source": [
    "for i in [1,2,3,4,5]:\n",
    "    # print (i)\n",
    "    for j in [1,2,3,4,5]:\n",
    "        # print(j)\n",
    "        print(i+j,end=\" \")\n",
    "    # print(i)\n",
    "print(\"Done Looping\")"
   ]
  },
  {
   "cell_type": "code",
   "execution_count": 31,
   "id": "99ebd453-d8cf-47cc-bef7-ade769d20626",
   "metadata": {},
   "outputs": [
    {
     "name": "stdout",
     "output_type": "stream",
     "text": [
      "Index:0 Name:a\n",
      "Index:1 Name:b\n"
     ]
    }
   ],
   "source": [
    "names = [\"a\",\"b\"]\n",
    "for i,name in enumerate(names):\n",
    "    print(f\"Index:{i} Name:{name}\")"
   ]
  },
  {
   "cell_type": "markdown",
   "id": "2693e91b-35cb-415d-a357-c03c66251cb6",
   "metadata": {
    "jp-MarkdownHeadingCollapsed": true
   },
   "source": [
    "## Modules"
   ]
  },
  {
   "cell_type": "code",
   "execution_count": 4,
   "id": "fb93023c-fe56-4072-a044-3d53baacd8f2",
   "metadata": {},
   "outputs": [],
   "source": [
    "import re"
   ]
  },
  {
   "cell_type": "code",
   "execution_count": 6,
   "id": "42a6afa8-f8f3-43d0-a9c1-b2c1e690d833",
   "metadata": {},
   "outputs": [],
   "source": [
    "my_regex = re.compile(\"[0-9]+\",re.I)"
   ]
  },
  {
   "cell_type": "code",
   "execution_count": 7,
   "id": "8c078584-7d44-4c68-a670-96608efbae70",
   "metadata": {},
   "outputs": [],
   "source": [
    "from collections import Counter,defaultdict"
   ]
  },
  {
   "cell_type": "markdown",
   "id": "145c0f8a-1062-4ea5-8751-23cda5119ac7",
   "metadata": {
    "jp-MarkdownHeadingCollapsed": true
   },
   "source": [
    "## Functions"
   ]
  },
  {
   "cell_type": "code",
   "execution_count": 9,
   "id": "422fa001-d177-438e-8de6-a0d4dc241c3e",
   "metadata": {},
   "outputs": [
    {
     "data": {
      "text/plain": [
       "40"
      ]
     },
     "execution_count": 9,
     "metadata": {},
     "output_type": "execute_result"
    }
   ],
   "source": [
    "def double(x):\n",
    "    return x*2\n",
    "\n",
    "double(20)"
   ]
  },
  {
   "cell_type": "code",
   "execution_count": 13,
   "id": "47641771-7f1d-43ec-9128-eafe51eb59f6",
   "metadata": {},
   "outputs": [
    {
     "name": "stdout",
     "output_type": "stream",
     "text": [
      "No value\n"
     ]
    }
   ],
   "source": [
    "def defaultMessage(value=\"No value\"):\n",
    "    print(value)\n",
    "\n",
    "defaultMessage()"
   ]
  },
  {
   "cell_type": "markdown",
   "id": "7f78b301-153c-4a42-b07a-7cf6c60a9756",
   "metadata": {
    "jp-MarkdownHeadingCollapsed": true
   },
   "source": [
    "## Strings"
   ]
  },
  {
   "cell_type": "code",
   "execution_count": 15,
   "id": "06bd858a-81a9-45fe-adf2-1ba981d5f7f6",
   "metadata": {},
   "outputs": [],
   "source": [
    "singleQuotestring = 'data science'\n",
    "doubleQuoteString = \"data Science\""
   ]
  },
  {
   "cell_type": "code",
   "execution_count": 18,
   "id": "3296396c-367e-4f50-8771-0ef469ca32b7",
   "metadata": {},
   "outputs": [
    {
     "data": {
      "text/plain": [
       "1"
      ]
     },
     "execution_count": 18,
     "metadata": {},
     "output_type": "execute_result"
    }
   ],
   "source": [
    "tab_string = \"\\t\" #Special Charecter represented using Backlash\n",
    "len(tab_string)"
   ]
  },
  {
   "cell_type": "code",
   "execution_count": 19,
   "id": "f140e119-7f73-46a5-8fe2-12da275ba01f",
   "metadata": {},
   "outputs": [
    {
     "data": {
      "text/plain": [
       "2"
      ]
     },
     "execution_count": 19,
     "metadata": {},
     "output_type": "execute_result"
    }
   ],
   "source": [
    "non_tab_string = r\"\\t\" #Raw string\n",
    "len(non_tab_string)"
   ]
  },
  {
   "cell_type": "code",
   "execution_count": 20,
   "id": "dc1c0366-9659-4905-ad2e-ca2bf7181f73",
   "metadata": {},
   "outputs": [],
   "source": [
    "multiLine_string = \"\"\"\n",
    "    This is multiline\n",
    "\"\"\"  # Used for Documentations within Code"
   ]
  },
  {
   "cell_type": "code",
   "execution_count": 21,
   "id": "002de61c-ad89-4a0a-bd18-eb9b9d5cf217",
   "metadata": {},
   "outputs": [
    {
     "name": "stdout",
     "output_type": "stream",
     "text": [
      "Arya Saumitra\n",
      "Arya Saumitra\n",
      "Arya Saumitra\n"
     ]
    }
   ],
   "source": [
    "firstName = \"Arya\"\n",
    "lastName = \"Saumitra\"\n",
    "\n",
    "fullName1 = firstName+\" \"+lastName\n",
    "print(fullName1)\n",
    "\n",
    "fullName2 = \"{0} {1}\".format(firstName,lastName)\n",
    "print(fullName2)\n",
    "\n",
    "fullName3 = f\"{firstName} {lastName}\"  # f-string type\n",
    "print(fullName3)"
   ]
  },
  {
   "cell_type": "markdown",
   "id": "6aa7fa5f-f2f9-4e2d-bde7-6e968497fba8",
   "metadata": {
    "jp-MarkdownHeadingCollapsed": true
   },
   "source": [
    "## Exceptions"
   ]
  },
  {
   "cell_type": "code",
   "execution_count": 22,
   "id": "c36dc207-7990-4f1b-8550-4fd538033b78",
   "metadata": {},
   "outputs": [
    {
     "name": "stdout",
     "output_type": "stream",
     "text": [
      "Cannot Divide by Zero\n"
     ]
    }
   ],
   "source": [
    "try:\n",
    "    print(0/0)\n",
    "except ZeroDivisionError:\n",
    "    print(\"Cannot Divide by Zero\")"
   ]
  },
  {
   "cell_type": "markdown",
   "id": "47e027c2-82c2-4576-92f3-6b84a3975ca6",
   "metadata": {
    "jp-MarkdownHeadingCollapsed": true
   },
   "source": [
    "## Lists"
   ]
  },
  {
   "cell_type": "code",
   "execution_count": 26,
   "id": "4dbc9f58-6681-41c8-8471-4822ae97a391",
   "metadata": {},
   "outputs": [],
   "source": [
    "x = [0,1,2,3,4,5,6,7,8,9]\n",
    "\n",
    "first_three = x[:3]\n",
    "three_to_end = x[3:]\n",
    "one_to_four = x[1:5]  # x[i:j] i-(inclusive), j-(exclusive)\n",
    "last_three = x[-3:]\n",
    "without_first_and_last = x[1:-1]\n",
    "copy_ofx = x[:]\n",
    "every_thrid = x[::3] # x[i:j:k] k is iterator\n",
    "five_to_three = x[5:2:-1]"
   ]
  },
  {
   "cell_type": "code",
   "execution_count": 27,
   "id": "2ac6e38c-03cc-4414-808c-33970ef48059",
   "metadata": {},
   "outputs": [
    {
     "data": {
      "text/plain": [
       "True"
      ]
     },
     "execution_count": 27,
     "metadata": {},
     "output_type": "execute_result"
    }
   ],
   "source": [
    "1 in [1,2,3]"
   ]
  },
  {
   "cell_type": "code",
   "execution_count": 35,
   "id": "b21480b3-d5c4-4480-91b4-a69c26383614",
   "metadata": {},
   "outputs": [
    {
     "name": "stdout",
     "output_type": "stream",
     "text": [
      "ID of A:135947881119984\n",
      "ID of Arr:135947799364480\n",
      "Currently at 1 with ID:135947881119984\n",
      "found a match\n",
      "Currently at 2 with ID:135947881120016\n",
      "Currently at 3 with ID:135947881120048\n"
     ]
    }
   ],
   "source": [
    "a = 1\n",
    "arr = [1,2,3]\n",
    "\n",
    "print(f\"ID of A:{id(a)}\")\n",
    "print(f\"ID of Arr:{id(arr)}\")\n",
    "for eachElement in arr:\n",
    "    print(f\"Currently at {eachElement} with ID:{id(eachElement)}\")\n",
    "    if a == eachElement:\n",
    "        print(\"found a match\")\n",
    "\n",
    "# The in operator checks for equality (==), not identity (is)\n",
    "# For custom objects, you can define how equality is determined using the __eq__ method."
   ]
  },
  {
   "cell_type": "code",
   "execution_count": 36,
   "id": "840656c0-d390-4b54-a30a-9abea3a19867",
   "metadata": {},
   "outputs": [],
   "source": [
    "arr.append(4)"
   ]
  },
  {
   "cell_type": "code",
   "execution_count": 37,
   "id": "12c7fae1-61ec-477a-8ad2-6569c0998e94",
   "metadata": {},
   "outputs": [
    {
     "name": "stdout",
     "output_type": "stream",
     "text": [
      "[1, 2, 3, 4]\n"
     ]
    }
   ],
   "source": [
    "print(arr)"
   ]
  },
  {
   "cell_type": "code",
   "execution_count": 38,
   "id": "a6097505-23d9-4d09-9037-5da42eb40f58",
   "metadata": {},
   "outputs": [
    {
     "data": {
      "text/plain": [
       "4"
      ]
     },
     "execution_count": 38,
     "metadata": {},
     "output_type": "execute_result"
    }
   ],
   "source": [
    "arr.pop()"
   ]
  },
  {
   "cell_type": "code",
   "execution_count": 39,
   "id": "5ede79c8-99ab-4cb6-a2f4-fed260fb26f4",
   "metadata": {},
   "outputs": [],
   "source": [
    "x,y,z = [1,2,3]"
   ]
  },
  {
   "cell_type": "code",
   "execution_count": 40,
   "id": "0a003c6d-00ba-4af9-a071-29047d4b5e91",
   "metadata": {},
   "outputs": [],
   "source": [
    "_,y= [1,2]"
   ]
  },
  {
   "cell_type": "code",
   "execution_count": 41,
   "id": "8ecd1b74-5b81-4ba6-bcc3-a47b9850bd6a",
   "metadata": {},
   "outputs": [
    {
     "name": "stdout",
     "output_type": "stream",
     "text": [
      "2\n"
     ]
    }
   ],
   "source": [
    "print(y)"
   ]
  },
  {
   "cell_type": "markdown",
   "id": "d062f578-bb49-44ae-aa14-8a743ffea5a8",
   "metadata": {
    "jp-MarkdownHeadingCollapsed": true
   },
   "source": [
    "## Tuples - Immutable List"
   ]
  },
  {
   "cell_type": "code",
   "execution_count": 42,
   "id": "229d114c-1758-4ed4-9ebb-36948784d78c",
   "metadata": {},
   "outputs": [],
   "source": [
    "tuples = (1,2)"
   ]
  },
  {
   "cell_type": "code",
   "execution_count": 43,
   "id": "8a9e8d04-ab0a-4e7e-bafa-ed4dd8bfa8f9",
   "metadata": {},
   "outputs": [],
   "source": [
    "def func():\n",
    "    return 2,3 #Returns Tuple (2,3)\n",
    "\n",
    "x,y = func() # Tuple Unpacking"
   ]
  },
  {
   "cell_type": "code",
   "execution_count": 44,
   "id": "77a70c8f-7f3e-4196-930e-ded975785c52",
   "metadata": {},
   "outputs": [
    {
     "name": "stdout",
     "output_type": "stream",
     "text": [
      "2\n",
      "3\n"
     ]
    }
   ],
   "source": [
    "print(x)\n",
    "print(y)"
   ]
  },
  {
   "cell_type": "markdown",
   "id": "6a9dc440-d160-4682-8402-4bdd41b59e63",
   "metadata": {
    "jp-MarkdownHeadingCollapsed": true
   },
   "source": [
    "## Dictionaries & Default Dict"
   ]
  },
  {
   "cell_type": "markdown",
   "id": "74cb43b4-2e8a-4f5a-939c-d7bc649bb5c8",
   "metadata": {
    "jp-MarkdownHeadingCollapsed": true
   },
   "source": [
    "### Dictionary"
   ]
  },
  {
   "cell_type": "code",
   "execution_count": 45,
   "id": "4552b76f-ff2f-46ea-a5a3-400e8eec29d0",
   "metadata": {},
   "outputs": [],
   "source": [
    "empty_dict = {}\n",
    "grades= {\"tim\":8,\"Joel\":80}"
   ]
  },
  {
   "cell_type": "code",
   "execution_count": 46,
   "id": "cf6dc041-597c-4149-b952-74355ba42783",
   "metadata": {},
   "outputs": [
    {
     "data": {
      "text/plain": [
       "80"
      ]
     },
     "execution_count": 46,
     "metadata": {},
     "output_type": "execute_result"
    }
   ],
   "source": [
    "grades[\"Joel\"]"
   ]
  },
  {
   "cell_type": "code",
   "execution_count": 47,
   "id": "7e4f90b5-3498-4604-acdd-366bddd1c3a9",
   "metadata": {},
   "outputs": [
    {
     "data": {
      "text/plain": [
       "False"
      ]
     },
     "execution_count": 47,
     "metadata": {},
     "output_type": "execute_result"
    }
   ],
   "source": [
    "\"Kate\" in grades"
   ]
  },
  {
   "cell_type": "code",
   "execution_count": 50,
   "id": "c24bfa3e-49e1-4b24-959a-adf76a33d279",
   "metadata": {},
   "outputs": [
    {
     "data": {
      "text/plain": [
       "80"
      ]
     },
     "execution_count": 50,
     "metadata": {},
     "output_type": "execute_result"
    }
   ],
   "source": [
    "grades.get(\"Joel\",90)"
   ]
  },
  {
   "cell_type": "code",
   "execution_count": 51,
   "id": "d2defb19-1f0d-43a4-8f4b-15d12af2f419",
   "metadata": {},
   "outputs": [
    {
     "data": {
      "text/plain": [
       "90"
      ]
     },
     "execution_count": 51,
     "metadata": {},
     "output_type": "execute_result"
    }
   ],
   "source": [
    "grades.get(\"Kate\",90)"
   ]
  },
  {
   "cell_type": "code",
   "execution_count": 52,
   "id": "a5d93eed-d49b-405d-bb9a-aa2838f664f1",
   "metadata": {},
   "outputs": [
    {
     "data": {
      "text/plain": [
       "dict_keys(['tim', 'Joel'])"
      ]
     },
     "execution_count": 52,
     "metadata": {},
     "output_type": "execute_result"
    }
   ],
   "source": [
    "grades.keys()"
   ]
  },
  {
   "cell_type": "code",
   "execution_count": 53,
   "id": "0f435ce6-3e2b-4c53-9468-22f95e49855f",
   "metadata": {},
   "outputs": [
    {
     "data": {
      "text/plain": [
       "dict_values([8, 80])"
      ]
     },
     "execution_count": 53,
     "metadata": {},
     "output_type": "execute_result"
    }
   ],
   "source": [
    "grades.values()"
   ]
  },
  {
   "cell_type": "code",
   "execution_count": 54,
   "id": "d064ccf4-d931-4794-8f94-d8f53fffa555",
   "metadata": {},
   "outputs": [
    {
     "data": {
      "text/plain": [
       "dict_items([('tim', 8), ('Joel', 80)])"
      ]
     },
     "execution_count": 54,
     "metadata": {},
     "output_type": "execute_result"
    }
   ],
   "source": [
    "grades.items()"
   ]
  },
  {
   "cell_type": "markdown",
   "id": "fc45d030-a144-4827-aff2-da72b55de23d",
   "metadata": {
    "jp-MarkdownHeadingCollapsed": true
   },
   "source": [
    "### Default Dict"
   ]
  },
  {
   "cell_type": "code",
   "execution_count": 56,
   "id": "148c55ac-3cb6-48a6-8a6f-1c00b2e24d80",
   "metadata": {},
   "outputs": [
    {
     "name": "stdout",
     "output_type": "stream",
     "text": [
      "{'x': 1, 'y': 1, 'z': 1, ' ': 7, 's': 12, 'd': 11, 'k': 4, 'a': 2, 'j': 4, 'l': 1, 'w': 2, 'n': 3, 'o': 1, 'm': 2}\n"
     ]
    }
   ],
   "source": [
    "# Default way to create a hashmap \n",
    "document = \"xyz sdks sdakjsl asdkjw sdnjsd sdowjmd sdmsd ksdnsnd\"\n",
    "\n",
    "word_count = {}\n",
    "for word in document:\n",
    "    if word in word_count:\n",
    "        word_count[word] += 1\n",
    "    else:\n",
    "        word_count[word] = 1\n",
    "\n",
    "print(word_count)"
   ]
  },
  {
   "cell_type": "code",
   "execution_count": 57,
   "id": "b84882bc-bb53-4b0f-9b80-000b2520d476",
   "metadata": {},
   "outputs": [
    {
     "name": "stdout",
     "output_type": "stream",
     "text": [
      "{'x': 1, 'y': 1, 'z': 1, ' ': 7, 's': 12, 'd': 11, 'k': 4, 'a': 2, 'j': 4, 'l': 1, 'w': 2, 'n': 3, 'o': 1, 'm': 2}\n"
     ]
    }
   ],
   "source": [
    "# Slightly Smarter Way to create Hashmap\n",
    "\n",
    "word_count = {}\n",
    "for word in document:\n",
    "    previousCount = word_count.get(word,0)\n",
    "    word_count[word] = previousCount + 1\n",
    "\n",
    "print(word_count)"
   ]
  },
  {
   "cell_type": "code",
   "execution_count": 59,
   "id": "16d9803c-812e-4e48-b6a8-ff0e72d8ccb2",
   "metadata": {},
   "outputs": [
    {
     "name": "stdout",
     "output_type": "stream",
     "text": [
      "defaultdict(<class 'int'>, {'x': 1, 'y': 1, 'z': 1, ' ': 7, 's': 12, 'd': 11, 'k': 4, 'a': 2, 'j': 4, 'l': 1, 'w': 2, 'n': 3, 'o': 1, 'm': 2})\n"
     ]
    }
   ],
   "source": [
    "# Python Boss way to create Hashmap\n",
    "from collections import defaultdict\n",
    "\n",
    "word_count = defaultdict(int)\n",
    "for word in document:\n",
    "    word_count[word] += 1\n",
    "\n",
    "print(word_count)"
   ]
  },
  {
   "cell_type": "markdown",
   "id": "55ee8f3a-321d-45c3-920b-f47da05b3b45",
   "metadata": {
    "jp-MarkdownHeadingCollapsed": true
   },
   "source": [
    "## Counters"
   ]
  },
  {
   "cell_type": "code",
   "execution_count": 61,
   "id": "da19c21c-19d8-482e-bb74-a40381c7204d",
   "metadata": {},
   "outputs": [
    {
     "name": "stdout",
     "output_type": "stream",
     "text": [
      "Counter({'s': 12, 'd': 11, ' ': 7, 'k': 4, 'j': 4, 'n': 3, 'a': 2, 'w': 2, 'm': 2, 'x': 1, 'y': 1, 'z': 1, 'l': 1, 'o': 1})\n"
     ]
    }
   ],
   "source": [
    "# Creates a defaultdict[int] for every key - Python God way to create Hashmap\n",
    "from collections import Counter\n",
    "\n",
    "word_count = Counter(document)\n",
    "print(word_count)"
   ]
  },
  {
   "cell_type": "markdown",
   "id": "939d4bcd-1f71-423c-b6ad-e61e603f6562",
   "metadata": {
    "jp-MarkdownHeadingCollapsed": true
   },
   "source": [
    "## Sets"
   ]
  },
  {
   "cell_type": "code",
   "execution_count": 62,
   "id": "fd480527-66e3-4e37-a348-51765d943311",
   "metadata": {},
   "outputs": [],
   "source": [
    "# Collection of Distinct Element - Set Operations, Venn Diagrams, In Operations are super quick"
   ]
  },
  {
   "cell_type": "code",
   "execution_count": 63,
   "id": "4c2b54b6-f776-4a55-9b5a-a56cb27139ab",
   "metadata": {},
   "outputs": [],
   "source": [
    "primes = {1,2,3}"
   ]
  },
  {
   "cell_type": "code",
   "execution_count": 64,
   "id": "48224cf1-76f5-4118-87c4-2e73f89b8ec4",
   "metadata": {},
   "outputs": [],
   "source": [
    "primes.add(4)"
   ]
  },
  {
   "cell_type": "code",
   "execution_count": 65,
   "id": "5bb3292c-2535-4f94-9f20-045f1684c574",
   "metadata": {},
   "outputs": [
    {
     "name": "stdout",
     "output_type": "stream",
     "text": [
      "{1, 2, 3, 4}\n"
     ]
    }
   ],
   "source": [
    "print(primes)"
   ]
  },
  {
   "cell_type": "markdown",
   "id": "45997f21-10c9-458d-8109-6813b1952069",
   "metadata": {
    "jp-MarkdownHeadingCollapsed": true
   },
   "source": [
    "## Truthiness"
   ]
  },
  {
   "cell_type": "code",
   "execution_count": 6,
   "id": "883b6f99-fa89-43f5-8f5c-7d747956224f",
   "metadata": {},
   "outputs": [],
   "source": [
    "x= None\n",
    "\n",
    "assert x is None"
   ]
  },
  {
   "cell_type": "code",
   "execution_count": 7,
   "id": "b22633df-e363-4ce9-a0f4-bd2e32bd22d2",
   "metadata": {},
   "outputs": [
    {
     "data": {
      "text/plain": [
       "True"
      ]
     },
     "execution_count": 7,
     "metadata": {},
     "output_type": "execute_result"
    }
   ],
   "source": [
    "all([True,1,{3}])"
   ]
  },
  {
   "cell_type": "code",
   "execution_count": 8,
   "id": "d72aa3fe-a45a-4573-9e74-411a9a6cc874",
   "metadata": {},
   "outputs": [
    {
     "data": {
      "text/plain": [
       "False"
      ]
     },
     "execution_count": 8,
     "metadata": {},
     "output_type": "execute_result"
    }
   ],
   "source": [
    "all([True,1,{}])"
   ]
  },
  {
   "cell_type": "code",
   "execution_count": 9,
   "id": "314b9f22-ff59-406d-97af-d246dbd90105",
   "metadata": {},
   "outputs": [
    {
     "data": {
      "text/plain": [
       "True"
      ]
     },
     "execution_count": 9,
     "metadata": {},
     "output_type": "execute_result"
    }
   ],
   "source": [
    "any([True,1,{}])"
   ]
  },
  {
   "cell_type": "code",
   "execution_count": 11,
   "id": "3ff666ec-25ce-4ded-9eb4-cbe360ff198b",
   "metadata": {},
   "outputs": [
    {
     "data": {
      "text/plain": [
       "True"
      ]
     },
     "execution_count": 11,
     "metadata": {},
     "output_type": "execute_result"
    }
   ],
   "source": [
    "all([]) #No Falsy element in List"
   ]
  },
  {
   "cell_type": "code",
   "execution_count": 12,
   "id": "d36035b8-4b06-4217-ac45-e3e9553a037a",
   "metadata": {},
   "outputs": [
    {
     "data": {
      "text/plain": [
       "False"
      ]
     },
     "execution_count": 12,
     "metadata": {},
     "output_type": "execute_result"
    }
   ],
   "source": [
    "any([]) #No True element in List"
   ]
  },
  {
   "cell_type": "code",
   "execution_count": 23,
   "id": "1e69879e-cfd8-4493-8e00-a573a73d809e",
   "metadata": {},
   "outputs": [],
   "source": [
    "def smallestItem(xs):\n",
    "    return min(xs)\n",
    "\n",
    "assert smallestItem([10,20,5,40]) == 5\n",
    "assert smallestItem([1]) == 1,\"Not Correct\""
   ]
  },
  {
   "cell_type": "markdown",
   "id": "bff1ad84-7b55-4ca8-a246-303305e4e245",
   "metadata": {
    "jp-MarkdownHeadingCollapsed": true
   },
   "source": [
    "## Sorting"
   ]
  },
  {
   "cell_type": "code",
   "execution_count": 13,
   "id": "7c7e1c76-13f1-4e18-b941-4de392d93292",
   "metadata": {},
   "outputs": [],
   "source": [
    "x = [3,4,1,2]"
   ]
  },
  {
   "cell_type": "code",
   "execution_count": 14,
   "id": "781e70a9-7355-4e24-8113-1e0fac4ee59c",
   "metadata": {},
   "outputs": [],
   "source": [
    "y = sorted(x)"
   ]
  },
  {
   "cell_type": "code",
   "execution_count": 15,
   "id": "bd220aac-f9e8-416a-bd9c-dfad2b143e67",
   "metadata": {},
   "outputs": [
    {
     "name": "stdout",
     "output_type": "stream",
     "text": [
      "[1, 2, 3, 4]\n"
     ]
    }
   ],
   "source": [
    "print(y)"
   ]
  },
  {
   "cell_type": "code",
   "execution_count": 16,
   "id": "674b4a92-0e37-4af5-884b-e12b73d34ebb",
   "metadata": {},
   "outputs": [],
   "source": [
    "x.sort()"
   ]
  },
  {
   "cell_type": "code",
   "execution_count": 17,
   "id": "a8dbdc80-3da6-401e-aa8e-49501b6d670a",
   "metadata": {},
   "outputs": [
    {
     "name": "stdout",
     "output_type": "stream",
     "text": [
      "[1, 2, 3, 4]\n"
     ]
    }
   ],
   "source": [
    "print(x)"
   ]
  },
  {
   "cell_type": "code",
   "execution_count": 18,
   "id": "58ed32f7-1ade-456f-b6dd-0a74eaab423b",
   "metadata": {},
   "outputs": [],
   "source": [
    "y = sorted(x,reverse=True)"
   ]
  },
  {
   "cell_type": "code",
   "execution_count": 19,
   "id": "aa18ef65-f450-491c-aaf8-e4c4b1187aba",
   "metadata": {},
   "outputs": [
    {
     "name": "stdout",
     "output_type": "stream",
     "text": [
      "[4, 3, 2, 1]\n"
     ]
    }
   ],
   "source": [
    "print(y)"
   ]
  },
  {
   "cell_type": "markdown",
   "id": "7dfd8267-074c-4c8c-ba48-e919b4a98b64",
   "metadata": {
    "jp-MarkdownHeadingCollapsed": true
   },
   "source": [
    "## List Comprehensions"
   ]
  },
  {
   "cell_type": "code",
   "execution_count": 24,
   "id": "9f1ebd42-9ecc-4a5d-a2d5-f9350bb00431",
   "metadata": {},
   "outputs": [],
   "source": [
    "l = [x for x in range(1,100) if x%2==0]"
   ]
  },
  {
   "cell_type": "code",
   "execution_count": 25,
   "id": "9c9fc6d6-4165-4830-af2e-e9333e51bdca",
   "metadata": {},
   "outputs": [
    {
     "name": "stdout",
     "output_type": "stream",
     "text": [
      "[2, 4, 6, 8, 10, 12, 14, 16, 18, 20, 22, 24, 26, 28, 30, 32, 34, 36, 38, 40, 42, 44, 46, 48, 50, 52, 54, 56, 58, 60, 62, 64, 66, 68, 70, 72, 74, 76, 78, 80, 82, 84, 86, 88, 90, 92, 94, 96, 98]\n"
     ]
    }
   ],
   "source": [
    "print(l)"
   ]
  },
  {
   "cell_type": "code",
   "execution_count": 26,
   "id": "fb407830-9285-4922-b0ac-2ed084fd1762",
   "metadata": {},
   "outputs": [
    {
     "name": "stdout",
     "output_type": "stream",
     "text": [
      "{1: 1, 2: 4, 3: 9, 4: 16, 5: 25, 6: 36, 7: 49, 8: 64, 9: 81}\n"
     ]
    }
   ],
   "source": [
    "square_dict = {x:x*x for x in range(1,10)}\n",
    "print(square_dict)"
   ]
  },
  {
   "cell_type": "code",
   "execution_count": 27,
   "id": "066c4aaf-5dd6-4070-8d5a-dbd843ec6b73",
   "metadata": {},
   "outputs": [
    {
     "name": "stdout",
     "output_type": "stream",
     "text": [
      "[(1, 1), (1, 2), (1, 3), (1, 4), (1, 5), (1, 6), (1, 7), (1, 8), (1, 9), (2, 1), (2, 2), (2, 3), (2, 4), (2, 5), (2, 6), (2, 7), (2, 8), (2, 9), (3, 1), (3, 2), (3, 3), (3, 4), (3, 5), (3, 6), (3, 7), (3, 8), (3, 9), (4, 1), (4, 2), (4, 3), (4, 4), (4, 5), (4, 6), (4, 7), (4, 8), (4, 9), (5, 1), (5, 2), (5, 3), (5, 4), (5, 5), (5, 6), (5, 7), (5, 8), (5, 9), (6, 1), (6, 2), (6, 3), (6, 4), (6, 5), (6, 6), (6, 7), (6, 8), (6, 9), (7, 1), (7, 2), (7, 3), (7, 4), (7, 5), (7, 6), (7, 7), (7, 8), (7, 9), (8, 1), (8, 2), (8, 3), (8, 4), (8, 5), (8, 6), (8, 7), (8, 8), (8, 9), (9, 1), (9, 2), (9, 3), (9, 4), (9, 5), (9, 6), (9, 7), (9, 8), (9, 9)]\n"
     ]
    }
   ],
   "source": [
    "pairs = [(x,y) for x in range(1,10) for y in range(1,10)]\n",
    "print(pairs)"
   ]
  },
  {
   "cell_type": "markdown",
   "id": "b4d61b6e-e814-48e2-8c88-9a5e6405e35d",
   "metadata": {
    "jp-MarkdownHeadingCollapsed": true
   },
   "source": [
    "## Object Oriented Programming"
   ]
  },
  {
   "cell_type": "code",
   "execution_count": 29,
   "id": "4a57e5f2-f0c7-4356-88b1-0454f618a158",
   "metadata": {},
   "outputs": [],
   "source": [
    "class CountingClicker:\n",
    "    \"\"\" Class Definition \"\"\"\n",
    "    def __init__(self,count=0):\n",
    "        self.count = count\n",
    "    def __repr__(self):\n",
    "        return f\"CountingClicker:(count={self.count})\"\n",
    "    def click(self,num_times = 1):\n",
    "        self.count += num_times\n",
    "    def read(self):\n",
    "        return self.count\n",
    "    def reset(self):\n",
    "        self.count = 0\n",
    "\n",
    "clicker = CountingClicker()\n",
    "assert clicker.read() == 0,\"Clicker should start with 0\"\n",
    "clicker.click()\n",
    "clicker.click()\n",
    "assert clicker.read() == 2,\"Clicker should have count 2\"\n",
    "clicker.reset()\n",
    "assert clicker.read() ==0,\"Clikcer should reset to 0\""
   ]
  },
  {
   "cell_type": "code",
   "execution_count": 30,
   "id": "a7e34109-289d-4ec4-8c37-bb1f450149aa",
   "metadata": {},
   "outputs": [],
   "source": [
    "class NoResetCountingClicker(CountingClicker):\n",
    "\n",
    "    def reset(self):\n",
    "        pass\n",
    "\n",
    "clicker2 = NoResetCountingClicker()\n",
    "assert clicker2.read() == 0, \"Clicker should start at 0\"\n",
    "clicker2.click()\n",
    "assert clicker2.read() == 1, \"should be 1\"\n",
    "clicker2.reset()\n",
    "assert clicker2.read() == 1, \"Reset shouldn't do anything\""
   ]
  },
  {
   "cell_type": "markdown",
   "id": "fb553751-dec8-4198-a6c9-b9cd86c3e19f",
   "metadata": {
    "jp-MarkdownHeadingCollapsed": true
   },
   "source": [
    "## Randomness"
   ]
  },
  {
   "cell_type": "code",
   "execution_count": 32,
   "id": "8af95546-855b-47d8-8418-0c2179c618a6",
   "metadata": {},
   "outputs": [],
   "source": [
    "import random"
   ]
  },
  {
   "cell_type": "code",
   "execution_count": 33,
   "id": "f8d6a8e7-24d9-4292-873e-745cc1bacd1e",
   "metadata": {},
   "outputs": [
    {
     "name": "stdout",
     "output_type": "stream",
     "text": [
      "[0.278314288555083, 0.8687247816973116, 0.9696691427343461, 0.7014866831537886]\n"
     ]
    }
   ],
   "source": [
    "four_numbers = [random.random() for _ in range(4)]\n",
    "print(four_numbers)"
   ]
  },
  {
   "cell_type": "code",
   "execution_count": 34,
   "id": "5c6553a2-8f79-45f9-941d-c62e2b019bc8",
   "metadata": {},
   "outputs": [
    {
     "name": "stdout",
     "output_type": "stream",
     "text": [
      "0.6229016948897019\n",
      "0.6229016948897019\n"
     ]
    }
   ],
   "source": [
    "random.seed(5) #pre determines a value of random\n",
    "print(random.random())\n",
    "random.seed(5)\n",
    "print(random.random())"
   ]
  },
  {
   "cell_type": "code",
   "execution_count": 48,
   "id": "a4c93309-f3f8-4055-a840-d535dbd712f1",
   "metadata": {},
   "outputs": [
    {
     "name": "stdout",
     "output_type": "stream",
     "text": [
      "41\n"
     ]
    }
   ],
   "source": [
    "print(random.randrange(10,100))"
   ]
  },
  {
   "cell_type": "code",
   "execution_count": 50,
   "id": "1843b5f4-7652-408e-ab16-0dc2b0a857ad",
   "metadata": {},
   "outputs": [
    {
     "name": "stdout",
     "output_type": "stream",
     "text": [
      "[1, 2, 3, 4, 5, 6, 7, 8, 9, 10]\n",
      "[3, 7, 5, 8, 10, 6, 1, 4, 2, 9]\n"
     ]
    }
   ],
   "source": [
    "x = [ i for i in range(1,11)]\n",
    "print(x)\n",
    "random.shuffle(x)\n",
    "print(x)"
   ]
  },
  {
   "cell_type": "code",
   "execution_count": 66,
   "id": "3c641a44-05e5-4829-b064-afe86cb6a54f",
   "metadata": {},
   "outputs": [
    {
     "name": "stdout",
     "output_type": "stream",
     "text": [
      "b\n"
     ]
    }
   ],
   "source": [
    "best_friend = random.choice([\"a\",'b','c','d'])\n",
    "print(best_friend)"
   ]
  },
  {
   "cell_type": "code",
   "execution_count": 70,
   "id": "7ef234d0-115f-4f9a-9337-1524007e7148",
   "metadata": {},
   "outputs": [],
   "source": [
    "lottery = range(60)"
   ]
  },
  {
   "cell_type": "code",
   "execution_count": 71,
   "id": "1c563e39-46cb-4c85-a329-d2ff0c28addf",
   "metadata": {},
   "outputs": [
    {
     "name": "stdout",
     "output_type": "stream",
     "text": [
      "range(0, 60)\n"
     ]
    }
   ],
   "source": [
    "print(lottery)"
   ]
  },
  {
   "cell_type": "code",
   "execution_count": 73,
   "id": "f8ad7d1f-d0a2-4f23-8e94-0e58afdec4fa",
   "metadata": {},
   "outputs": [
    {
     "name": "stdout",
     "output_type": "stream",
     "text": [
      "[44, 12, 57, 24, 19, 1]\n"
     ]
    }
   ],
   "source": [
    "winning_range = random.sample(lottery,6)\n",
    "print(winning_range) #No Duplicates"
   ]
  },
  {
   "cell_type": "code",
   "execution_count": 74,
   "id": "52c20b61-157d-48ab-8cdc-2b1326e0f8e2",
   "metadata": {},
   "outputs": [
    {
     "name": "stdout",
     "output_type": "stream",
     "text": [
      "[5, 6, 2, 2, 4, 1, 5, 4, 9, 9]\n"
     ]
    }
   ],
   "source": [
    "# With Duplicates\n",
    "four_nums = [random.choice(range(10)) for _ in range(10)]\n",
    "print(four_nums)"
   ]
  },
  {
   "cell_type": "markdown",
   "id": "b0573edf-7318-404f-8707-f4cec0e28b57",
   "metadata": {
    "jp-MarkdownHeadingCollapsed": true
   },
   "source": [
    "## Type Annotations"
   ]
  },
  {
   "cell_type": "code",
   "execution_count": 75,
   "id": "9914eb0e-cb7c-4825-86aa-678989bb4dba",
   "metadata": {},
   "outputs": [],
   "source": [
    "from typing import List"
   ]
  },
  {
   "cell_type": "code",
   "execution_count": 76,
   "id": "265aec91-44aa-46ef-bffb-1eb537fe44fc",
   "metadata": {},
   "outputs": [],
   "source": [
    "values:List[int] = []"
   ]
  },
  {
   "cell_type": "markdown",
   "id": "41e17189-639e-4c10-8727-77b9850d6f12",
   "metadata": {
    "jp-MarkdownHeadingCollapsed": true
   },
   "source": [
    "## Zip, Argument Unpacking"
   ]
  },
  {
   "cell_type": "code",
   "execution_count": 77,
   "id": "cf3dcbf1-b741-49b3-a4b9-1acea63c1e28",
   "metadata": {},
   "outputs": [
    {
     "name": "stdout",
     "output_type": "stream",
     "text": [
      "[('a', 1), ('b', 2), ('c', 3)]\n"
     ]
    }
   ],
   "source": [
    "list1 = [1,2,3]\n",
    "list2 = ['a','b','c']\n",
    "\n",
    "pairs = [pair for pair in zip(list2,list1)]\n",
    "print(pairs)"
   ]
  },
  {
   "cell_type": "code",
   "execution_count": 78,
   "id": "a1ac83d6-f357-4746-874b-9cde15715b5c",
   "metadata": {},
   "outputs": [],
   "source": [
    "letters, numbers = zip(*pairs)"
   ]
  },
  {
   "cell_type": "code",
   "execution_count": 79,
   "id": "e0870a8e-9a6f-452b-af00-9e06cee84ba2",
   "metadata": {},
   "outputs": [
    {
     "name": "stdout",
     "output_type": "stream",
     "text": [
      "('a', 'b', 'c')\n"
     ]
    }
   ],
   "source": [
    "print(letters)"
   ]
  },
  {
   "cell_type": "code",
   "execution_count": 80,
   "id": "0780f26b-c99c-4b93-9578-9d695971db9a",
   "metadata": {},
   "outputs": [
    {
     "name": "stdout",
     "output_type": "stream",
     "text": [
      "(1, 2, 3)\n"
     ]
    }
   ],
   "source": [
    "print(numbers)"
   ]
  },
  {
   "cell_type": "markdown",
   "id": "4d72035c-26ac-4944-a758-4ae2b9524550",
   "metadata": {},
   "source": [
    "## args and kwargs"
   ]
  },
  {
   "cell_type": "code",
   "execution_count": 83,
   "id": "2d86ee43-083e-4349-9a32-328f6ee8eb8c",
   "metadata": {},
   "outputs": [
    {
     "name": "stdout",
     "output_type": "stream",
     "text": [
      "Unnamed args: (1, 2, 3, [1, 2, 3])\n",
      "Keyword args: {'key': 'word', 'key2': 'word2'}\n"
     ]
    }
   ],
   "source": [
    "def magic(*args, **kwards):\n",
    "    print(\"Unnamed args:\",args)\n",
    "    print(\"Keyword args:\",kwards)\n",
    "\n",
    "magic(1,2,3,[1,2,3],key=\"word\",key2=\"word2\")"
   ]
  },
  {
   "cell_type": "code",
   "execution_count": null,
   "id": "fb0844ba-842b-496c-8924-0ecd660df284",
   "metadata": {},
   "outputs": [],
   "source": []
  }
 ],
 "metadata": {
  "kernelspec": {
   "display_name": "Python 3 (ipykernel)",
   "language": "python",
   "name": "python3"
  },
  "language_info": {
   "codemirror_mode": {
    "name": "ipython",
    "version": 3
   },
   "file_extension": ".py",
   "mimetype": "text/x-python",
   "name": "python",
   "nbconvert_exporter": "python",
   "pygments_lexer": "ipython3",
   "version": "3.12.3"
  }
 },
 "nbformat": 4,
 "nbformat_minor": 5
}
