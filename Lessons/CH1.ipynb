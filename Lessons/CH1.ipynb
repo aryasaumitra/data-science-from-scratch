{
 "cells": [
  {
   "cell_type": "markdown",
   "id": "2bbeb53c-0fb3-400b-8fa9-399f47dc90b7",
   "metadata": {},
   "source": [
    "# Python Fundamentals"
   ]
  },
  {
   "cell_type": "code",
   "execution_count": 3,
   "id": "314cd293-ce35-4572-8741-5ed1913a15f2",
   "metadata": {},
   "outputs": [
    {
     "name": "stdout",
     "output_type": "stream",
     "text": [
      "2\n",
      "3\n",
      "4\n",
      "5\n",
      "6\n",
      "3\n",
      "4\n",
      "5\n",
      "6\n",
      "7\n",
      "4\n",
      "5\n",
      "6\n",
      "7\n",
      "8\n",
      "5\n",
      "6\n",
      "7\n",
      "8\n",
      "9\n",
      "6\n",
      "7\n",
      "8\n",
      "9\n",
      "10\n",
      "Done Looping\n"
     ]
    }
   ],
   "source": [
    "for i in [1,2,3,4,5]:\n",
    "    # print (i)\n",
    "    for j in [1,2,3,4,5]:\n",
    "        # print(j)\n",
    "        print(i+j)\n",
    "    # print(i)\n",
    "print(\"Done Looping\")"
   ]
  },
  {
   "cell_type": "code",
   "execution_count": null,
   "id": "1e19e96b-254d-45e7-9075-face1ea40bc6",
   "metadata": {},
   "outputs": [],
   "source": []
  }
 ],
 "metadata": {
  "kernelspec": {
   "display_name": "Python 3 (ipykernel)",
   "language": "python",
   "name": "python3"
  },
  "language_info": {
   "codemirror_mode": {
    "name": "ipython",
    "version": 3
   },
   "file_extension": ".py",
   "mimetype": "text/x-python",
   "name": "python",
   "nbconvert_exporter": "python",
   "pygments_lexer": "ipython3",
   "version": "3.10.12"
  }
 },
 "nbformat": 4,
 "nbformat_minor": 5
}
